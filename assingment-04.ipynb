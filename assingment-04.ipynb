{
 "cells": [
  {
   "cell_type": "code",
   "execution_count": 1,
   "id": "8c1fa767",
   "metadata": {},
   "outputs": [],
   "source": [
    "#Given a list of numbers, write a python program that returns a new list which Has all duplicate elements removed.\n",
    "#And is sorted in an increasing order."
   ]
  },
  {
   "cell_type": "code",
   "execution_count": 12,
   "id": "ed17c30c",
   "metadata": {},
   "outputs": [
    {
     "name": "stdout",
     "output_type": "stream",
     "text": [
      "[1, 2, 3, 4, 7, 8, 9]\n"
     ]
    }
   ],
   "source": [
    "list1=[2,1,3,4,2,3,3,2,7,9,8,7]\n",
    "list2=set(list1)\n",
    "list3=list(list2)\n",
    "list3.sort()\n",
    "print(list3)\n"
   ]
  },
  {
   "cell_type": "code",
   "execution_count": 14,
   "id": "314c952a",
   "metadata": {},
   "outputs": [],
   "source": [
    "#2)Write a Python program where you will iterate over both keys and values in \n",
    "#dictionaries\n"
   ]
  },
  {
   "cell_type": "code",
   "execution_count": 5,
   "id": "52d8e46f",
   "metadata": {},
   "outputs": [
    {
     "name": "stdout",
     "output_type": "stream",
     "text": [
      "dict_items([('tony', 'iron man'), ('steve', 'cap'), ('bruce', 'hulk')])\n",
      "dict_items([('tony', 'iron man'), ('steve', 'cap'), ('bruce', 'hulk')])\n",
      "dict_items([('tony', 'iron man'), ('steve', 'cap'), ('bruce', 'hulk')])\n",
      "dict_items([('tony', 'iron man'), ('steve', 'cap'), ('bruce', 'hulk')])\n"
     ]
    }
   ],
   "source": [
    "marvel={\"tony\":\"iron man\",\"steve\":\"cap\",\"bruce\":\"hulk\"}\n",
    "n=1\n",
    "while n<5:\n",
    "    print(marvel.items())\n",
    "    n=n+1\n"
   ]
  },
  {
   "cell_type": "code",
   "execution_count": 7,
   "id": "348b4b43",
   "metadata": {},
   "outputs": [
    {
     "name": "stdout",
     "output_type": "stream",
     "text": [
      "tony iron man\n",
      "steve cap\n",
      "bruce hulk\n"
     ]
    }
   ],
   "source": [
    "marvel={\"tony\":\"iron man\",\"steve\":\"cap\",\"bruce\":\"hulk\"}\n",
    "for keys,values in marvel.items():\n",
    "    print(keys,values)\n",
    " "
   ]
  },
  {
   "cell_type": "code",
   "execution_count": 44,
   "id": "bb70c303",
   "metadata": {},
   "outputs": [
    {
     "name": "stdout",
     "output_type": "stream",
     "text": [
      "['gephi', 'manoj', 'tarun']\n"
     ]
    }
   ],
   "source": [
    "#Write a Python program that takes a dictionary of student names and returns a list of \n",
    "#student names in alphabetical order\n",
    "list1=[]\n",
    "name={\"student 1\": \"tarun\", \"student 2\":\"manoj\",\"student 3\": \"gephi\"}\n",
    "for keys,values in name.items():\n",
    "    list1.append(values)\n",
    "    list1\n",
    "    list1.sort()\n",
    "print(list1)\n",
    "    \n",
    "\n",
    "\n",
    "\n",
    "    \n",
    "      "
   ]
  },
  {
   "cell_type": "code",
   "execution_count": 59,
   "id": "eb4aad8a",
   "metadata": {},
   "outputs": [
    {
     "name": "stdout",
     "output_type": "stream",
     "text": [
      "True\n",
      "false\n",
      "True\n",
      "false\n",
      "True\n",
      "false\n",
      "True\n",
      "false\n",
      "false\n",
      "True\n",
      "['true', 'false', 'true', 'false', 'true', 'false', 'true', 'false', 'false', 'true']\n"
     ]
    }
   ],
   "source": [
    "#. Write a Python which returns a new list of Booleans, from a given number. Iterating \n",
    "#through the number one digit at a time, append True if the digit is 1 and False if it is 0.\n",
    "number=\"1010101001\"\n",
    "list2=[]\n",
    "for i in number:\n",
    "    if i==\"1\":\n",
    "        print(\"True\")\n",
    "        list2.append(\"true\")\n",
    "    elif i==\"0\":\n",
    "        print(\"false\")\n",
    "        list2.append(\"false\")\n",
    "print(list2)\n"
   ]
  },
  {
   "cell_type": "code",
   "execution_count": 66,
   "id": "78a075f2",
   "metadata": {},
   "outputs": [
    {
     "name": "stdout",
     "output_type": "stream",
     "text": [
      "enter the name salva\n",
      "{'l': 1, 'v': 1, 's': 1, 'a': 2}\n"
     ]
    }
   ],
   "source": [
    "#5.character and the values will be the occurrence of the character in the string, and it \n",
    "#should for any string inputs (dynamic)\n",
    "name=input(\"enter the name \")\n",
    "b=set(name)\n",
    "c=list(b)\n",
    "dict1=dict()\n",
    "for i in c:\n",
    "    dict1.update({i:name.count(i)})\n",
    "print(dict1)\n",
    "\n"
   ]
  },
  {
   "cell_type": "code",
   "execution_count": 103,
   "id": "1083a8ce",
   "metadata": {},
   "outputs": [
    {
     "name": "stdout",
     "output_type": "stream",
     "text": [
      "ponting\n"
     ]
    }
   ],
   "source": [
    "#6. Given a dictionary containing the names and ages of a group of people, return the \n",
    "#name of the oldest person\n",
    "#Ex:Input: {\"Tmma\": 41, \"Ackes\": 45, \"myna\": 15, \"Benthon\": 29}\n",
    "#Output: “Ackes”\n",
    "dict1={\"tim pain\":35,\"broad\":25,\"ponting\":52,\"pain\":23}\n",
    "max_values=max(dict1.values())\n",
    "for i in dict1:\n",
    "    if max_values==dict1[i]:\n",
    "        print(i)\n",
    "\n",
    "   "
   ]
  },
  {
   "cell_type": "code",
   "execution_count": 101,
   "id": "4a14fd85",
   "metadata": {},
   "outputs": [
    {
     "name": "stdout",
     "output_type": "stream",
     "text": [
      "ponting\n"
     ]
    }
   ],
   "source": [
    "max_values=max(dict1.values())\n",
    "max_values\n",
    "key=[k for k, v in dict1.items() if v ==52][0]\n",
    "print(key)"
   ]
  },
  {
   "cell_type": "code",
   "execution_count": 102,
   "id": "daef544f",
   "metadata": {},
   "outputs": [
    {
     "name": "stdout",
     "output_type": "stream",
     "text": [
      "58658\n"
     ]
    }
   ],
   "source": [
    "list3=[2,100,2565,789,4567,78,352,157,3685,58658]\n",
    "higest=0\n",
    "for i in list3:\n",
    "    if i>higest:\n",
    "        higest=i\n",
    "print(higest)\n",
    "    \n",
    "    "
   ]
  },
  {
   "cell_type": "code",
   "execution_count": 104,
   "id": "a87b7b48",
   "metadata": {},
   "outputs": [
    {
     "name": "stdout",
     "output_type": "stream",
     "text": [
      "enter the person1rock\n",
      "enter the person2paper\n",
      "person2 wins\n"
     ]
    }
   ],
   "source": [
    "P1=input(\"enter the person1\")\n",
    "P2=input('enter the person2')\n",
    "if P1==\"rock\":\n",
    "    if P2==\"rock\":\n",
    "        print(\"match is tie\")\n",
    "    elif P2==\"paper\":\n",
    "        print(\"person2 wins\")\n",
    "    elif P2==\"scissor\":\n",
    "        print(\"person1 wins\")\n",
    "elif P1==\"paper\":\n",
    "    if P2==\"paper\":\n",
    "        print(\"match is tie\")\n",
    "    elif P2==\"scissor\":\n",
    "        print(\"person2 wins\")\n",
    "    elif P2==\"rock\":\n",
    "        print(\"person1 wins\")\n",
    "elif P1==\"scissor\":\n",
    "    if P2==\"scissor\":\n",
    "        print(\"match is tie\")\n",
    "    elif P2==\"rock\":\n",
    "        print(\"person2 wins\")\n",
    "    elif P2==\"paper\":\n",
    "        print(\"person1 wins\")\n",
    "else:\n",
    "    print('Invalid input')"
   ]
  },
  {
   "cell_type": "code",
   "execution_count": 123,
   "id": "af363183",
   "metadata": {},
   "outputs": [
    {
     "name": "stdout",
     "output_type": "stream",
     "text": [
      "amount in your vallet :56\n",
      "['water bottles', 'chips']\n"
     ]
    }
   ],
   "source": [
    "#8. Create a program that returns a list of items that you can afford in the store with the money you have in your wallet. Create a dictionary with items as key and price as values\n",
    "#Ex:Input: {“water bottles”: “20”,” chips”:10,” Iphone”;49000“,” towel”:90,” pens”:58,” cake”;400}\n",
    "#Your wallet balance: -5\n",
    "dict1={\"water bottles\":20,\"chips\":10,\"Iphone\":49000,\"towel\":90,\"pens\":58,\"cake\":400}\n",
    "wallet_balance=int(input(\"amount in your vallet :\"))\n",
    "list1=[]\n",
    "for i in dict1:\n",
    "    if dict1[i]<wallet_balance:\n",
    "        list1.append(i)\n",
    "print(list1)\n",
    "    "
   ]
  },
  {
   "cell_type": "code",
   "execution_count": 126,
   "id": "c89b1d68",
   "metadata": {},
   "outputs": [
    {
     "data": {
      "text/plain": [
       "{1, 3, 4, 5, 6, 7, 8, 32, 55, 56, 78, 95}"
      ]
     },
     "execution_count": 126,
     "metadata": {},
     "output_type": "execute_result"
    }
   ],
   "source": [
    "#9.Write a Python program to create a union of sets\n",
    "set1={1,32,3,4,5,6,7,8}\n",
    "set2={55,56,78,95,4,5}\n",
    "set1.union(set2)\n"
   ]
  },
  {
   "cell_type": "code",
   "execution_count": 144,
   "id": "15a1394f",
   "metadata": {},
   "outputs": [
    {
     "name": "stdout",
     "output_type": "stream",
     "text": [
      "enter the number:56\n"
     ]
    }
   ],
   "source": [
    "set3=[1,2,3,4,5,6,7,8,9,10]\n",
    "s1=int(input(\"enter the number:\"))\n",
    "for i in set3:\n",
    "    if i==s1:\n",
    "        print(\"the number is present in set3\")\n",
    "    \n",
    "\n",
    "        \n",
    "    "
   ]
  },
  {
   "cell_type": "code",
   "execution_count": 148,
   "id": "b2d17e38",
   "metadata": {},
   "outputs": [
    {
     "ename": "SyntaxError",
     "evalue": "invalid syntax (4166744149.py, line 3)",
     "output_type": "error",
     "traceback": [
      "\u001b[1;36m  File \u001b[1;32m\"C:\\Users\\91779\\AppData\\Local\\Temp\\ipykernel_15172\\4166744149.py\"\u001b[1;36m, line \u001b[1;32m3\u001b[0m\n\u001b[1;33m    [\"print the number is prtesent\" i for i in set3 if i==set3]\u001b[0m\n\u001b[1;37m                                    ^\u001b[0m\n\u001b[1;31mSyntaxError\u001b[0m\u001b[1;31m:\u001b[0m invalid syntax\n"
     ]
    }
   ],
   "source": [
    "set3=[1,2,3,4,5,6,7,8,9,10]\n",
    "s1=int(input(\"enter the number:\"))\n",
    "[\"print the number is prtesent\" i for i in set3 if i==set3]"
   ]
  },
  {
   "cell_type": "code",
   "execution_count": 18,
   "id": "0ed85d20",
   "metadata": {},
   "outputs": [
    {
     "name": "stdout",
     "output_type": "stream",
     "text": [
      "enter the string :Cat dog dog cat horse dog dog mouse horse dog mouse tiger lion tiger  cat mouse snai\n"
     ]
    },
    {
     "ename": "TypeError",
     "evalue": "'dict' object is not callable",
     "output_type": "error",
     "traceback": [
      "\u001b[1;31m---------------------------------------------------------------------------\u001b[0m",
      "\u001b[1;31mTypeError\u001b[0m                                 Traceback (most recent call last)",
      "\u001b[1;32m~\\AppData\\Local\\Temp\\ipykernel_20188\\3339824480.py\u001b[0m in \u001b[0;36m<module>\u001b[1;34m\u001b[0m\n\u001b[0;32m     14\u001b[0m             \u001b[1;32melse\u001b[0m\u001b[1;33m:\u001b[0m\u001b[1;33m\u001b[0m\u001b[1;33m\u001b[0m\u001b[0m\n\u001b[0;32m     15\u001b[0m                 \u001b[0mdict1\u001b[0m\u001b[1;33m[\u001b[0m\u001b[0mi\u001b[0m\u001b[1;33m]\u001b[0m\u001b[1;33m=\u001b[0m\u001b[1;36m1\u001b[0m\u001b[1;33m\u001b[0m\u001b[1;33m\u001b[0m\u001b[0m\n\u001b[1;32m---> 16\u001b[1;33m \u001b[1;32mfor\u001b[0m \u001b[0my\u001b[0m \u001b[1;32min\u001b[0m \u001b[0mrange\u001b[0m\u001b[1;33m(\u001b[0m\u001b[0mdict1\u001b[0m\u001b[1;33m(\u001b[0m\u001b[1;36m0\u001b[0m\u001b[1;33m,\u001b[0m\u001b[1;36m3\u001b[0m\u001b[1;33m)\u001b[0m\u001b[1;33m)\u001b[0m\u001b[1;33m:\u001b[0m\u001b[1;33m\u001b[0m\u001b[1;33m\u001b[0m\u001b[0m\n\u001b[0m\u001b[0;32m     17\u001b[0m     \u001b[0mprint\u001b[0m\u001b[1;33m(\u001b[0m\u001b[0my\u001b[0m\u001b[1;33m)\u001b[0m\u001b[1;33m\u001b[0m\u001b[1;33m\u001b[0m\u001b[0m\n\u001b[0;32m     18\u001b[0m \u001b[1;33m\u001b[0m\u001b[0m\n",
      "\u001b[1;31mTypeError\u001b[0m: 'dict' object is not callable"
     ]
    }
   ],
   "source": [
    "#11. Write a Python program to find the occurrences of 3 most common words in a given text. And make it as a dictionaries\n",
    "#Ex:Input:\n",
    "#” Cat dog dog cat horse dog dog mouse horse dog mouse tiger lion tiger \n",
    "#cat mouse snail”\n",
    "s1=input(\"enter the string :\")\n",
    "s2=s1.split()\n",
    "s2\n",
    "s3=[]\n",
    "dict1={}\n",
    "for i in s2:\n",
    "        if s2.count(i)>=2:\n",
    "            if i in dict1:\n",
    "                dict1[i]+=1\n",
    "            else:\n",
    "                dict1[i]=1\n",
    "for y in range(dict1(0,3)):\n",
    "    print(y)\n",
    "\n",
    "    "
   ]
  },
  {
   "cell_type": "code",
   "execution_count": 157,
   "id": "d2c5e32d",
   "metadata": {},
   "outputs": [
    {
     "name": "stdout",
     "output_type": "stream",
     "text": [
      "{'lion': 35, 'tiger': 56, 'elephant': 74, 'wolf': 85}\n"
     ]
    }
   ],
   "source": [
    "list1=[\"lion\",\"tiger\",\"elephant\",\"wolf\"]\n",
    "list2=[35,56,74,85]\n",
    "dict1=dict()\n",
    "for i in range(len(list1)):\n",
    "    dict1.update({list1[i]:list2[i]})\n",
    "print(dict1)"
   ]
  },
  {
   "cell_type": "code",
   "execution_count": null,
   "id": "a17f8e84",
   "metadata": {},
   "outputs": [],
   "source": []
  }
 ],
 "metadata": {
  "kernelspec": {
   "display_name": "Python 3 (ipykernel)",
   "language": "python",
   "name": "python3"
  },
  "language_info": {
   "codemirror_mode": {
    "name": "ipython",
    "version": 3
   },
   "file_extension": ".py",
   "mimetype": "text/x-python",
   "name": "python",
   "nbconvert_exporter": "python",
   "pygments_lexer": "ipython3",
   "version": "3.9.13"
  }
 },
 "nbformat": 4,
 "nbformat_minor": 5
}
